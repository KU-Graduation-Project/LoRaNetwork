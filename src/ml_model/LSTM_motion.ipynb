{
 "cells": [
  {
   "cell_type": "code",
   "execution_count": null,
   "id": "776ce6c0",
   "metadata": {},
   "outputs": [],
   "source": [
    "import numpy as np\n",
    "np.random.seed(42)\n",
    "import tensorflow as tf\n",
    "tf.random.set_seed(42)\n",
    "\n",
    "from keras.models import Sequential\n",
    "from keras.layers import LSTM\n",
    "from keras.layers.core import Dense, Dropout\n",
    "\n",
    "from data import load_data\n",
    "from utils import confusion_matrix\n"
   ]
  },
  {
   "cell_type": "code",
   "execution_count": null,
   "id": "43dd4f55",
   "metadata": {},
   "outputs": [],
   "source": [
    "epochs = 30\n",
    "batch_size = 16\n",
    "n_hidden = 32"
   ]
  },
  {
   "cell_type": "code",
   "execution_count": null,
   "id": "a2210e64",
   "metadata": {},
   "outputs": [],
   "source": [
    "def _count_classes(y):\n",
    "    return len(set([tuple(category) for category in y]))\n",
    "\n",
    "X_train, X_test, Y_train, Y_test = load_data()\n",
    "# train-test data split\n",
    "# X는 input, Y는 (정답)output\n",
    "\n",
    "timesteps = len(X_train[0])\n",
    "input_dim = len(X_train[0][0])\n",
    "\n",
    "# 분류하고 싶은 클래스 개수\n",
    "n_classes = _count_classes(Y_train) \n",
    "\n",
    "model = Sequential()\n",
    "\n",
    "# n_hidden : 은닉계층 임베딩 되는 차원\n",
    "# LSTM cell =  n_hidden 차원으로 만드는 것\n",
    "# timestep : split해서 넣을 데이터 절편 크기\n",
    "model.add(LSTM(n_hidden, input_shape=(timesteps, input_dim)))\n",
    "# input차원 - (timesteps, input_dim)\n",
    "\n",
    "model.add(Dropout(0.5))\n",
    "model.add(Dense(n_classes, activation='sigmoid'))\n",
    "\n",
    "# loss : predicted 결과와 real 결과의 차이\n",
    "# optimizer : local optimum에 빠지지 않도록 넘어가게 해주는 장치\n",
    "model.compile(loss='categorical_crossentropy',\n",
    "              optimizer='rmsprop',\n",
    "              metrics=['accuracy'])\n",
    "\n",
    "model.fit(X_train,\n",
    "          Y_train,\n",
    "          batch_size=batch_size,\n",
    "          validation_data=(X_test, Y_test),\n",
    "          epochs=epochs)\n",
    "\n",
    "# Evaluate\n",
    "print(confusion_matrix(Y_test, model.predict(X_test)))"
   ]
  }
 ],
 "metadata": {
  "kernelspec": {
   "display_name": "Python 3 (ipykernel)",
   "language": "python",
   "name": "python3"
  },
  "language_info": {
   "codemirror_mode": {
    "name": "ipython",
    "version": 3
   },
   "file_extension": ".py",
   "mimetype": "text/x-python",
   "name": "python",
   "nbconvert_exporter": "python",
   "pygments_lexer": "ipython3",
   "version": "3.9.13"
  }
 },
 "nbformat": 4,
 "nbformat_minor": 5
}
